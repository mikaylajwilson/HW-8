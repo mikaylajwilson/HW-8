{
 "cells": [
  {
   "cell_type": "code",
   "execution_count": 1,
   "metadata": {},
   "outputs": [],
   "source": [
    "%matplotlib inline\n",
    "# the above line is literally called magic. it basically is\n",
    "# it helps with plotting in the notebooks\n",
    "\n",
    "# we're going to need all of these so lets import now\n",
    "# best practice of course is to do this in the first cell\n",
    "import numpy as np  # common convention, lets stick to it\n",
    "import scipy.optimize as opt  # we'll need this for fitting!\n",
    "from matplotlib import pyplot as plt # also the common convention"
   ]
  },
  {
   "cell_type": "code",
   "execution_count": 2,
   "metadata": {},
   "outputs": [
    {
     "data": {
      "image/png": "[encoded data removed]",
      "text/plain": [
       "<Figure size 432x288 with 1 Axes>"
      ]
     },
     "metadata": {
      "needs_background": "light"
     },
     "output_type": "display_data"
    }
   ],
   "source": [
    "# start with linear data\n",
    "# lets make a function that makes a line!\n",
    "\n",
    "def line(x, m, b):\n",
    "    # the order of these arguments is important later\n",
    "    # and good practice\n",
    "    # the x input is first because we will pass many x points  (independent variable goes first)\n",
    "\n",
    "    return m * x + b  # as expected\n",
    "\n",
    "\n",
    "x_data = np.arange(0, 10, 0.1)  # from 0 to 10 in steps of 0.1\n",
    "y_data = line(x_data, 2, 0)\n",
    "\n",
    "plt.scatter(x_data, y_data)\n",
    "plt.show() #gets ride of output aka words above graph"
   ]
  },
  {
   "cell_type": "code",
   "execution_count": 3,
   "metadata": {},
   "outputs": [
    {
     "data": {
      "text/plain": [
       "[<matplotlib.lines.Line2D at 0x101f3c1400>]"
      ]
     },
     "execution_count": 3,
     "metadata": {},
     "output_type": "execute_result"
    },
    {
     "data": {
      "image/png": "[encoded data removed]",
      "text/plain": [
       "<Figure size 432x288 with 1 Axes>"
      ]
     },
     "metadata": {
      "needs_background": "light"
     },
     "output_type": "display_data"
    }
   ],
   "source": [
    "# boring but that's the point\n",
    "# lets make something that looks like real data\n",
    "\n",
    "x_data = np.arange(0, 10, 0.1)\n",
    "\n",
    "# data isn't evenly spaced\n",
    "# we're going to randomly choose points to keep\n",
    "# we create a random array of boolean values\n",
    "# then \"slice\" x_data; only the indices where cut is true will be kept\n",
    "cut = np.random.choice(a=[False, True], size=x_data.shape)\n",
    "x_data = x_data[cut]\n",
    "\n",
    "y_data = line(x_data, 2, 0)\n",
    "\n",
    "# cool but still a perfect line\n",
    "# lets add noise\n",
    "\n",
    "y_data_noisy = y_data + np.random.randn(len(y_data)) * 2 #*2 makes sigma 2 in standard deviation \n",
    "\n",
    "plt.scatter(x_data, y_data_noisy, c='b')\n",
    "plt.plot(x_data, y_data, c='r')"
   ]
  },
  {
   "cell_type": "code",
   "execution_count": 4,
   "metadata": {},
   "outputs": [
    {
     "name": "stdout",
     "output_type": "stream",
     "text": [
      "2.0504584914151156 -0.01765716508065096\n",
      "2.0504584914151156 -0.01765716508065096\n"
     ]
    },
    {
     "data": {
      "text/plain": [
       "[<matplotlib.lines.Line2D at 0x101f4dd668>]"
      ]
     },
     "execution_count": 4,
     "metadata": {},
     "output_type": "execute_result"
    },
    {
     "data": {
      "image/png": "[encoded data removed]",
      "text/plain": [
       "<Figure size 432x288 with 1 Axes>"
      ]
     },
     "metadata": {
      "needs_background": "light"
     },
     "output_type": "display_data"
    }
   ],
   "source": [
    "# now suppose we don't have y_data and know m or b, as usually happens\n",
    "# that's where fitting comes in!\n",
    "\n",
    "popt, pcov = opt.curve_fit(line, x_data, y_data_noisy)\n",
    "#line is the function we defined earlier, important to define it yourself (ours is y=mx+b) \n",
    "#curve fit makes guesses\n",
    "\n",
    "print(*popt)  # woah what's that *!?\n",
    "# \"Starred\" expressions are very handy in python\n",
    "# it means \"unpack\" basically. \n",
    "# *popt is short hand for popt[0], popt[1], ... , popt[n]\n",
    "# in this case its just 0 and 1, but this saves lots of typing!\n",
    "# of course this is equivalent to the long version, as can be seen:\n",
    "print(popt[0], popt[1])    \n",
    "#prints m and b (in order that they appear in function) so these are our best fit values for the line!\n",
    "\n",
    "\n",
    "plt.scatter(x_data, y_data_noisy, c='b')\n",
    "plt.plot(x_data, line(x_data, *popt), c='r')"
   ]
  },
  {
   "cell_type": "code",
   "execution_count": 16,
   "metadata": {},
   "outputs": [
    {
     "name": "stdout",
     "output_type": "stream",
     "text": [
      "(1751., 3., 0., 0., 3., 0., 0., nan)\n",
      "[('Year', '<f8'), ('Total', '<f8'), ('Gas', '<f8'), ('Liquids', '<f8'), ('Solids', '<f8'), ('Cement_Production', '<f8'), ('Gas_Flaring', '<f8'), ('Per_Capita', '<f8')]\n",
      "[1751. 1752. 1753. 1754. 1755. 1756. 1757. 1758. 1759. 1760. 1761. 1762.\n",
      " 1763. 1764. 1765. 1766. 1767. 1768. 1769. 1770. 1771. 1772. 1773. 1774.\n",
      " 1775. 1776. 1777. 1778. 1779. 1780. 1781. 1782. 1783. 1784. 1785. 1786.\n",
      " 1787. 1788. 1789. 1790. 1791. 1792. 1793. 1794. 1795. 1796. 1797. 1798.\n",
      " 1799. 1800. 1801. 1802. 1803. 1804. 1805. 1806. 1807. 1808. 1809. 1810.\n",
      " 1811. 1812. 1813. 1814. 1815. 1816. 1817. 1818. 1819. 1820. 1821. 1822.\n",
      " 1823. 1824. 1825. 1826. 1827. 1828. 1829. 1830. 1831. 1832. 1833. 1834.\n",
      " 1835. 1836. 1837. 1838. 1839. 1840. 1841. 1842. 1843. 1844. 1845. 1846.\n",
      " 1847. 1848. 1849. 1850. 1851. 1852. 1853. 1854. 1855. 1856. 1857. 1858.\n",
      " 1859. 1860. 1861. 1862. 1863. 1864. 1865. 1866. 1867. 1868. 1869. 1870.\n",
      " 1871. 1872. 1873. 1874. 1875. 1876. 1877. 1878. 1879. 1880. 1881. 1882.\n",
      " 1883. 1884. 1885. 1886. 1887. 1888. 1889. 1890. 1891. 1892. 1893. 1894.\n",
      " 1895. 1896. 1897. 1898. 1899. 1900. 1901. 1902. 1903. 1904. 1905. 1906.\n",
      " 1907. 1908. 1909. 1910. 1911. 1912. 1913. 1914. 1915. 1916. 1917. 1918.\n",
      " 1919. 1920. 1921. 1922. 1923. 1924. 1925. 1926. 1927. 1928. 1929. 1930.\n",
      " 1931. 1932. 1933. 1934. 1935. 1936. 1937. 1938. 1939. 1940. 1941. 1942.\n",
      " 1943. 1944. 1945. 1946. 1947. 1948. 1949. 1950. 1951. 1952. 1953. 1954.\n",
      " 1955. 1956. 1957. 1958. 1959. 1960. 1961. 1962. 1963. 1964. 1965. 1966.\n",
      " 1967. 1968. 1969. 1970. 1971. 1972. 1973. 1974. 1975. 1976. 1977. 1978.\n",
      " 1979. 1980. 1981. 1982. 1983. 1984. 1985. 1986. 1987. 1988. 1989. 1990.\n",
      " 1991. 1992. 1993. 1994. 1995. 1996. 1997. 1998. 1999. 2000. 2001. 2002.\n",
      " 2003. 2004. 2005. 2006. 2007. 2008. 2009. 2010. 2011.]\n",
      "[1751. 1752. 1753. 1754. 1755. 1756. 1757. 1758. 1759. 1760.]\n"
     ]
    }
   ],
   "source": [
    "# cool that's pretty close\n",
    "# now let's try it on real data!\n",
    "\n",
    "# we're going to use numpy's built in text file reader\n",
    "# names=True means use headers\n",
    "# delimiter=\",\" is the character seperating the columns\n",
    "# and many thanks to https://cdiac.ess-dive.lbl.gov/ftp/ndp030/global.1751_2011.ems\n",
    "# for the data\n",
    "data = np.genfromtxt(\"co2_emmissions.dat\", names=True, delimiter=\",\")\n",
    "\n",
    "# this structure is a numpy array, sometimes called a \"rec array\" because it has named columns\n",
    "# we can see a row\n",
    "print(data[0])\n",
    "# we can see the names of the columns\n",
    "print(data.dtype)\n",
    "# and access data by column\n",
    "print(data[\"Year\"])\n",
    "# and as with all arrays we can access sub-pieces\n",
    "print(data[\"Year\"][:10]) #: gives first 10 years"
   ]
  },
  {
   "cell_type": "code",
   "execution_count": 17,
   "metadata": {},
   "outputs": [
    {
     "data": {
      "text/plain": [
       "Text(0, 0.5, 'CO$_2$ (Mega-tons)')"
      ]
     },
     "execution_count": 17,
     "metadata": {},
     "output_type": "execute_result"
    },
    {
     "data": {
      "image/png": "[encoded data removed]",
      "text/plain": [
       "<Figure size 432x288 with 1 Axes>"
      ]
     },
     "metadata": {
      "needs_background": "light"
     },
     "output_type": "display_data"
    }
   ],
   "source": [
    "# cool lets see some trends!\n",
    "\n",
    "plt.scatter(data[\"Year\"], data[\"Total\"])\n",
    "plt.xlabel(\"Year\")\n",
    "plt.ylabel(\"CO$_2$ (Mega-tons)\")"
   ]
  },
  {
   "cell_type": "code",
   "execution_count": 18,
   "metadata": {},
   "outputs": [],
   "source": [
    "def exponential(x, a, b, c, d):\n",
    "    return (a*np.exp(x * b + c)) + d"
   ]
  },
  {
   "cell_type": "code",
   "execution_count": 20,
   "metadata": {},
   "outputs": [
    {
     "name": "stdout",
     "output_type": "stream",
     "text": [
      "3.0253821917745054e-15 0.024146677408692307 -5.950386360054025 -118.29992497205536\n"
     ]
    },
    {
     "data": {
      "text/plain": [
       "[<matplotlib.lines.Line2D at 0x101fe304e0>]"
      ]
     },
     "execution_count": 20,
     "metadata": {},
     "output_type": "execute_result"
    },
    {
     "data": {
      "image/png": "[encoded data removed]",
      "text/plain": [
       "<Figure size 432x288 with 1 Axes>"
      ]
     },
     "metadata": {
      "needs_background": "light"
     },
     "output_type": "display_data"
    }
   ],
   "source": [
    "# Ignoring how terrifying that is...\n",
    "# your assignment is to fit a trend to that data\n",
    "# you may want to try multiple functions, e.g. exponential and polynomial\n",
    "#define function - physics implication, x data = Year, y data = total\n",
    "\n",
    "popt, pcov = opt.curve_fit(exponential, data[\"Year\"], data[\"Total\"], p0=[1e-5, 0.01 , 0.8, 0.1])\n",
    "print(*popt)\n",
    "x=data[\"Year\"]\n",
    "y=data[\"Total\"]\n",
    "plt.scatter(x, y, c='b')\n",
    "plt.plot(x, exponential(x,*popt), c='r')"
   ]
  },
  {
   "cell_type": "code",
   "execution_count": null,
   "metadata": {
    "scrolled": false
   },
   "outputs": [],
   "source": [
    "popt, pcov = opt.curve_fit(exponential, data[\"Year\"], data[\"Total\"], p0=[])\n",
    "print(*popt)"
   ]
  },
  {
   "cell_type": "code",
   "execution_count": null,
   "metadata": {},
   "outputs": [],
   "source": [
    "# plt.scatter(data[\"Year\"], data[\"Total\"])\n",
    "plt.plot(data[\"Year\"], exponential(data[\"Year\"], *popt), c='r')"
   ]
  },
  {
   "cell_type": "code",
   "execution_count": null,
   "metadata": {},
   "outputs": [],
   "source": []
  }
 ],
 "metadata": {
  "kernelspec": {
   "display_name": "Python 3",
   "language": "python",
   "name": "python3"
  },
  "language_info": {
   "codemirror_mode": {
    "name": "ipython",
    "version": 3
   },
   "file_extension": ".py",
   "mimetype": "text/x-python",
   "name": "python",
   "nbconvert_exporter": "python",
   "pygments_lexer": "ipython3",
   "version": "3.7.3"
  }
 },
 "nbformat": 4,
 "nbformat_minor": 2
}
